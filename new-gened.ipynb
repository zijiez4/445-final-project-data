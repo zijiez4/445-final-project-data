{
 "cells": [
  {
   "cell_type": "code",
   "execution_count": 2,
   "metadata": {},
   "outputs": [],
   "source": [
    "import pandas as pd\n",
    "url = \"https://raw.githubusercontent.com/wadefagen/datasets/master/geneds/gened-courses.csv\"\n",
    "df = pd.read_csv((url))\n",
    "df['ACP'] = df['ACP'].replace({'ACP': 'Advanced Composition'})\n",
    "df['CS'] = df['CS'].replace({'NW': 'Non-Western Cultures', 'WCC': 'Western/Comparative Cultures', 'US': 'US Minority Cultures'})\n",
    "df['HUM'] = df['HUM'].replace({'HP': 'Historical & Philosophical Perspectives', 'LA': 'Literature & the Arts'})\n",
    "df['NAT'] = df['NAT'].replace({'LS': 'Life Sciences', 'PS': 'Physical Sciences'})\n",
    "df['QR'] = df['QR'].replace({'QR1': 'Quantitative Reasoning 1', 'QR2': 'Quantitative Reasoning 2'})\n",
    "df['SBS'] = df['SBS'].replace({'BS': 'Behavioral Sciences', 'SS': 'Social Sciences'})\n",
    "df[['Subject', 'Number']] = df['Course'].str.split(expand=True)"
   ]
  },
  {
   "cell_type": "code",
   "execution_count": 3,
   "metadata": {},
   "outputs": [],
   "source": [
    "df.to_csv('new-gened.csv')"
   ]
  },
  {
   "cell_type": "code",
   "execution_count": null,
   "metadata": {},
   "outputs": [],
   "source": []
  }
 ],
 "metadata": {
  "kernelspec": {
   "display_name": "Python 3",
   "language": "python",
   "name": "python3"
  },
  "language_info": {
   "codemirror_mode": {
    "name": "ipython",
    "version": 3
   },
   "file_extension": ".py",
   "mimetype": "text/x-python",
   "name": "python",
   "nbconvert_exporter": "python",
   "pygments_lexer": "ipython3",
   "version": "3.10.2"
  }
 },
 "nbformat": 4,
 "nbformat_minor": 2
}
