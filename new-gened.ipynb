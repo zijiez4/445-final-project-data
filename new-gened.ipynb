{
 "cells": [
  {
   "cell_type": "code",
   "execution_count": 1,
   "metadata": {},
   "outputs": [],
   "source": [
    "import pandas as pd\n",
    "url = \"https://raw.githubusercontent.com/wadefagen/datasets/master/geneds/gened-courses.csv\"\n",
    "df = pd.read_csv((url))\n",
    "df['ACP'] = df['ACP'].replace({'ACP': 'Advanced Composition'})\n",
    "df['CS'] = df['CS'].replace({'NW': 'Non-Western Cultures', 'WCC': 'Western/Comparative Cultures', 'US': 'US Minority Cultures'})\n",
    "df['HUM'] = df['HUM'].replace({'HP': 'Historical & Philosophical Perspectives', 'LA': 'Literature & the Arts'})\n",
    "df['NAT'] = df['NAT'].replace({'LS': 'Life Sciences', 'PS': 'Physical Sciences'})\n",
    "df['QR'] = df['QR'].replace({'QR1': 'Quantitative Reasoning 1', 'QR2': 'Quantitative Reasoning 2'})\n",
    "df['SBS'] = df['SBS'].replace({'BS': 'Behavioral Sciences', 'SS': 'Social Sciences'})\n",
    "df[['Subject', 'Number']] = df['Course'].str.split(expand=True)"
   ]
  },
  {
   "cell_type": "code",
   "execution_count": 3,
   "metadata": {},
   "outputs": [],
   "source": [
    "df.to_csv('new-gened.csv')"
   ]
  },
  {
   "cell_type": "code",
   "execution_count": 4,
   "metadata": {},
   "outputs": [
    {
     "data": {
      "text/plain": [
       "array(['ACCOUNTANCY', 'ADVERTISING',\n",
       "       'AERONAUTICAL & ASTRONAUTICAL ENGINEERING', 'AFRICAN STUDIES',\n",
       "       'AFRO-AMERICAN STUDIES', 'AGRICULTURAL & CONSUMER ECONOMICS',\n",
       "       'AGRICULTURAL ENGINEERING',\n",
       "       'AGRICULTURAL, CONSUMER & ENVIRONMENTAL SCIENCES',\n",
       "       'AIR FORCE AEROSPACE STUDIES', 'ANIMAL SCIENCES', 'ANTHROPOLOGY',\n",
       "       'ARCHITECTURE', 'ART & DESIGN', 'ASTRONOMY',\n",
       "       'ATMOSPHERIC SCIENCES', 'AVIATION', 'BIOCHEMISTRY', 'BIOLOGY',\n",
       "       'BUSINESS ADMINISTRATION', 'BUSINESS AND TECHNICAL WRITING',\n",
       "       'CELL & STRUCTURAL BIOLOGY', 'CHEMISTRY',\n",
       "       'CIVIL & ENVIRONMENTAL ENGINEERING', 'CLASSICAL CIVILIZATION',\n",
       "       'COMMUNICATIONS', 'COMMUNITY HEALTH', 'COMPARATIVE LITERATURE',\n",
       "       'COMPUTER SCIENCE', 'CROP SCIENCES', 'CURRICULUM & INSTRUCTION',\n",
       "       'DANCE', 'EAST ASIAN LANGUAGES AND CULTURE', 'ECONOMICS',\n",
       "       'EDUCATION', 'EDUCATIONAL ORGANIZATION AND LEADERSHIP',\n",
       "       'EDUCATIONAL POLICY STUDIES', 'EDUCATIONAL PSYCHOLOGY',\n",
       "       'ELECTRICAL AND COMPUTER ENGINEERING',\n",
       "       'ENGLISH AND AMERICAN LITERATURE',\n",
       "       'ENGLISH AS AN INTERNATIONAL LANGUAGE', 'ENTOMOLOGY',\n",
       "       'BUSINESS ADMIN. COURSES:', 'ECONOMIC COURSES', 'FINANCE',\n",
       "       'FOOD SCIENCE & HUMAN NUTRITION', 'FRENCH', 'GENERAL ENGINEERING',\n",
       "       'GEOGRAPHY', 'GEOLOGY', 'GERMAN', 'GREEK', 'HISTORY',\n",
       "       'HORTICULTURE', 'HUMAN & COMMUNITY DEVELOPMENT',\n",
       "       'HUMAN RESOURCE EDUCATION', 'INTEGRATIVE BIOLOGY', 'JAPANESE',\n",
       "       'JOURNALISM', 'KINESIOLOGY', 'LABOR & INDUSTRIAL RELATIONS',\n",
       "       'LANDSCAPE ARCHITECTURE', 'LATIN', 'LATIN AMER & CARIB STUDIES',\n",
       "       'LEISURE STUDIES', 'LIBRARY & INFORMATION SCIENCE', 'LINGUISTICS',\n",
       "       'MATERIALS SCIENCE & ENGINEERING', 'MATHEMATICS', 'MBA',\n",
       "       'MECHANICAL & INDUSTRIAL ENGINEERING', 'MICROBIOLOGY',\n",
       "       'MILITARY SCIENCE', 'MOLECULAR & CELLULAR BIOLOGY',\n",
       "       'MOLECULAR & INTEGRATIVE PHYSIOLOGY', 'MUSIC',\n",
       "       'NATURAL RESOURCES & ENVIRONMENTAL SCIENCES', 'NAVAL SCIENCE',\n",
       "       'NUCLEAR, PLASMA & RAD. ENGR.', 'NURSING--GENERAL', 'PHILOSOPHY',\n",
       "       'PHYSICS', 'PHYSIOLOGY', 'PLANT BIOLOGY', 'POLITICAL SCIENCE',\n",
       "       'PSYCHOLOGY', 'RELIGIOUS STUDIES', 'RHETORIC AND COMPOSITION',\n",
       "       'SCANDINAVIAN', 'SOCIAL WORK', 'SOCIOLOGY',\n",
       "       'SPANISH, ITALIAN AND PORTUGUESE', 'SPECIAL EDUCATION',\n",
       "       'SPEECH AND HEARING SCIENCE', 'SPEECH COMMUNICATION', 'STATISTICS',\n",
       "       'THEATRE', 'THEORETICAL AND APPLIED MECHANICS',\n",
       "       'UI COLLEGE OF MEDICINE AT UC', 'URBAN & REGIONAL PLANNING',\n",
       "       'VETERINARY BIOSCIENCES', 'VETERINARY CLINICAL MEDICINE',\n",
       "       'VETERINARY PATHOBIOLOGY', \"WOMEN'S STUDIES\",\n",
       "       'AEROSPACE ENGINEERING', 'AGRICULTURAL & BIOLOGICAL ENGINEERING',\n",
       "       'AMERICAN INDIAN STUDIES', 'ASIAN AMERICAN STUDIES',\n",
       "       'BIOENGINEERING', 'CAMPUS HONORS PROGRAM', 'CINEMA STUDIES',\n",
       "       'COMPARATIVE & WORLD LITERATURE', 'CREATIVE WRITING',\n",
       "       'EAST ASIAN LANGUAGES AND CULTURES', \"GENDER & WOMEN'S STUDIES\",\n",
       "       'HINDI', 'INDUSTRIAL ENGINEERING',\n",
       "       'LATIN AMERICAN & CARIBBEAN STUDIES',\n",
       "       'LATINO/LATINA STUDIES PROGRAM', 'LAW', 'MECHANICAL ENGINEERING',\n",
       "       'MEDICAL SCIENCES', 'NUCLEAR, PLASMA & RADIOLOGICAL ENGINEERING',\n",
       "       'NURSING', 'PATHOBIOLOGY', 'RECREATION, SPORT & TOURISM',\n",
       "       'RURAL SOCIOLOGY', 'SANSKRIT', 'SLAVIC', 'ENGINEERING',\n",
       "       'ANIMAL BIOLOGY', 'ASIAN STUDIES-GENERAL', 'LEADERSHIP', 'HEBREW',\n",
       "       'LIBERAL ARTS & SCIENCES', 'ENVIRONMENTAL SCIENCES',\n",
       "       'REHABILITATION SERVICES',\n",
       "       'ADMINISTRATION, HIGHER, & CONTINUING EDUCATION',\n",
       "       'AGRICULTURAL COMMUNICATIONS', 'AGRICULTURAL ECONOMICS',\n",
       "       'AGRICULTURAL MECHANIZATION', 'AGRICULTURE', 'AGRONOMY',\n",
       "       'ANIMAL SCIENCE', 'ART', 'CHINESE', 'CIVIL ENGINEERING',\n",
       "       'CONSUMER SCIENCES', 'ECOLOGY, ETHOLOGY AND EVOLUTION',\n",
       "       'FAMILY AND CONSUMER ECONOMICS', 'FOOD SCIENCE',\n",
       "       'FOODS AND NUTRITION', 'HUMAN DEVELOPMENT & FAMILY STUDIES',\n",
       "       'HUMAN RESOURCES & FAMILY STUDIES', 'HUMANITIES',\n",
       "       'LABOR AND INDUSTRIAL RELATIONS', 'LATIN AMERICAN STUDIES PROGRAM',\n",
       "       'LIBERAL ARTS', 'LIBRARY SCIENCE', 'MATERIALS SCIENCE',\n",
       "       'VOCATIONAL & TECHNICAL EDUCATION', 'ATMOSPHERIC SCIENCE',\n",
       "       'ENVIRONMENTAL STUDIES', 'FORESTRY', 'NUCLEAR ENGINEERING',\n",
       "       'PLANT PATHOLOGY', 'RUSSIAN', 'ECOLOGY, ETHOLOGY, AND EVOLUTION',\n",
       "       'POLISH', 'SPANISH, ITALIAN, AND PORTUGUESE',\n",
       "       'UI COLLEGE OF MEDICINE AT U-C', 'LIBERAL ARTS AND SCIENCES',\n",
       "       'ARABIC', 'NURSING GENERAL',\n",
       "       'NUCLEAR, PLASMA, & RADIOLOGICAL ENGINEERING', 'EXECUTIVE MBA',\n",
       "       'MEDIEVAL CIV. STUDIES PROG.', 'NUTRITIONAL SCIENCES',\n",
       "       'COLLEGE OF MEDICINE', 'NATURAL RESOURCES & ENVIRONMENTAL SCIENCE',\n",
       "       'RECREATION, SPORT AND TOURISM', 'RUSSIAN & EAST EUROPEAN CENTER',\n",
       "       'AGRICULTURAL EDUCATION', 'AFRICAN AMERICAN STUDIES',\n",
       "       'Accountancy', 'Business Administration', 'Economics', 'PERSIAN',\n",
       "       'VETERINARY MEDICAL SCIENCE',\n",
       "       'CHEMICAL AND BIOMOLECULAR ENGINEERING', 'COMMUNICATION',\n",
       "       'Finance', 'FINE AND APPLIED ARTS', 'LAS', 'LATINO/LATINA STUDIES',\n",
       "       'LIBRARY AND INFORMATION SCIENCE', 'KORCZAK,P               TA',\n",
       "       'MEDIA', 'MEDIA STUDIES', 'NUCLEAR, PLASMA & RAD. ENGINEERING',\n",
       "       'APPLIED HEALTH SCIENCES', 'GENERAL STUDIES', 'GLOBAL STUDIES',\n",
       "       'INFORMATICS', 'MODERN GREEK', 'SPANISH, ITALIAN AND PORTUGUES',\n",
       "       'VETERINARY MEDICINE', 'BUSINESS',\n",
       "       'FOOD SCIENCE AND HUMAN NUTRITION', 'LABOR & EMPLOYMENT RELATIONS',\n",
       "       'CELL AND DEVELOPMENTAL BIOLOGY',\n",
       "       'EARTH, SOCIETY, AND ENVIRONMENT', 'ENGLISH',\n",
       "       'EUROPEAN UNION STUDIES',\n",
       "       'GEOGRAPHY & GEOGRAPHIC INFORMATION SCIENCE',\n",
       "       'LATINA/LATINO STUDIES', 'MOLECULAR AND CELLULAR BIOLOGY',\n",
       "       'RHETORIC', 'BIOPHYSICS', 'EARTH, SOCIETY AND ENVIRONMENT',\n",
       "       'EDUCATIONAL POLICY, ORGANIZATION AND LEADERSHIP',\n",
       "       'AND ENGLISH AS A SECOND LANGUAGE', 'FRENCH AND ITALIAN',\n",
       "       'GEOGRAPHY & GEOGRAPHIC INFORMATION', 'I-HEALTH PROGRAM',\n",
       "       'LATINA/LATINO STUDIES PROGRAM', 'MOLECULAR AND CELL BIOLOGY',\n",
       "       'NEUROSCIENCE', 'SPANISH AND PORTUGUESE',\n",
       "       'TECHNICAL ENTREPRENEURSHIP', 'MUSEUM STUDIES', 'NURSING-GENERAL',\n",
       "       'ENVIRONMENTAL SUSTAINABILITY', \"GENDER AND WOMEN'S STUDIES\",\n",
       "       'RECREATION, SPORTS, AND TOURISM', 'LABOR EMPLOYMENT RELATIONS',\n",
       "       'KRZYZEWSKI,C', 'AGRICULTURAL AND CONSUMER ECONOMICS',\n",
       "       'NURSING—GENERAL', 'DE LEON ALEJANDRO,J', 'POLANCO ENCARNACION,G',\n",
       "       'EARTH SYSTEMS, ENVIRONMENT, & SOCIETY',\n",
       "       'AMER & CARIB       STUDIES',\n",
       "       'CHEMICAL & BIOMOLECULAR ENGINEERING',\n",
       "       'INDUSTRIAL SYSTEMS ENGINEERING',\n",
       "       'RUSSIAN,EAST EUROPEAN & EURASION CENTER',\n",
       "       'HUMAN RESOURCE DEVELOPMENT', 'I-HEALTH',\n",
       "       'RUSSIAN, EAST EUROPEAN, & EURASIAN CENTER',\n",
       "       'ENGLISH AS AN INTERNATIONAL LANGUAGE AND ENGLISH AS A SECOND LANGUAGE',\n",
       "       'INDUSTRIAL AND ENTERPRISE SYSTEMS ENGINEERING',\n",
       "       'TRANSLATION STUDIES', 'EDUCATIONAL ORGANIZATION & LEADERSHIP',\n",
       "       'ENGLISH & AMERICAN LITERATURE', 'THEORETICAL & APPLIED MECHANICS',\n",
       "       'CHEMICAL ENGINEERING',\n",
       "       'INDUSTRIAL & ENTERPRISE SYSTEMS ENGINEERING',\n",
       "       'MECHANICAL SCIENCE and ENGINEERING', 'NATURAL RESOURCES',\n",
       "       'LABOR AND EMPLOYMENT RELATIONS', 'RECREATION, SPORT, AND TOURISM',\n",
       "       'CROP SCIENCE', 'EARTH, SOCIETY, & ENVIRONMENT',\n",
       "       'ENGLISH AS A SECOND LANGUAGE',\n",
       "       'LATIN AMERERICAN & CARIBBEAN STUDIES', 'TRAMEL,R',\n",
       "       'TECHNICAL ENTREPRENEURSHIP CENTER', 'ART EDUCATION',\n",
       "       'EDUCATIONAL POLICY, ORGANIZATIZATION AND LEADERSHIP',\n",
       "       'GRAND CHALLENGE LEARNING',\n",
       "       'SCHOOL OF LITERATURES, CULTURES AND LINGUISTICS',\n",
       "       'EDUCATION POLICY, ORGANIZATION AND LEADERSHIP',\n",
       "       'INFORMATION SCIENCE', 'TECHNOLOGY ENTREPRENEUR CENTER',\n",
       "       'AGRICULTURE & CONSUMER ECONOMICS', 'APPLIED HEALTH SCIENCE',\n",
       "       'CURRICULUM AND INSTRUCTION', 'INFORMATION SCIENCES',\n",
       "       'EDUCATION POLICY, ORGANIZATION & LEADERSHIP',\n",
       "       'HUMAN DEVELOPMENT AND FAMILY STUDIES',\n",
       "       'STRATEGIC BRAND COMMUNICATION', 'SYSTEMS ENGINEERING',\n",
       "       'TECHNICAL SYSTEMS MANAGEMENT',\n",
       "       'FOREIGN LANGUAGE TEACHER EDUCATION', 'INDONESIAN',\n",
       "       'EDUCATIONAL POLICY, ORGANIZATION & LEADERSHIP',\n",
       "       'LATIN AMERICAN & CARIBEAN STUDIES',\n",
       "       'MASTERS OF BUSINESS ADMINISTRATION', 'RELIGION',\n",
       "       'RUSSIAN, EASTERN EUROPEAN AND EURASIAN STUDIES',\n",
       "       'APPLIED HEALTH SCIENCES COURSES', 'EIL AND ESL',\n",
       "       'NATURAL RESOURCES & ENVIRONMENT', 'SPANISH',\n",
       "       'INTERDISCIPLINARY HEALTH SCIENCES', 'KOREAN',\n",
       "       'MEDIA AND CINEMA STUDIES', 'VETERINARY MEDICINE COURSES',\n",
       "       'NUCLEAR, PLASMA & RADIOLOGICAL ENGRINEERING',\n",
       "       'SCHOOL OF LITERATURES, CULTURES, AND LINGUISTICS',\n",
       "       'ACTUARIAL SCIENCE AND RISK MANAGEMENT',\n",
       "       'AGRICULTURAL AND BIOLOGICAL ENGINEERING', 'ART AND DESIGN',\n",
       "       'CIVIL AND ENVIRONMENTAL ENGINEERING', 'COMPARATIVE BIOSCIENCES',\n",
       "       'EAST ASIAN LANGUAGES & CULTURES', 'JEWISH STUDIES',\n",
       "       'MEDIEVAL STUDIES', 'ORGANIZATIONAL AND COMMUNITY LEADERSHIP',\n",
       "       'REHABILITATION COUNSELING',\n",
       "       'RUSSIAN, EAST EUROPEAN AND EURASIAN STUDIES',\n",
       "       'TECHNOLOGY ENTREPRENEURSHIP', 'TURKISH',\n",
       "       'URBAN AND REGIONAL PLANNING'], dtype=object)"
      ]
     },
     "execution_count": 4,
     "metadata": {},
     "output_type": "execute_result"
    }
   ],
   "source": [
    "dff = pd.read_csv('uiuc-tre-dataset.csv')\n",
    "dff.unit.unique()"
   ]
  },
  {
   "cell_type": "code",
   "execution_count": 5,
   "metadata": {},
   "outputs": [
    {
     "data": {
      "text/plain": [
       "array(['fa2003', 'sp2007', 'fa2000', 'sp1994', 'sp1995', 'sp1996',\n",
       "       'sp1997', 'sp1998', 'sp1999', 'fa2001', 'fa2002', 'fa2004',\n",
       "       'fa2005', 'fa2006', 'fa2007', 'fa2008', 'fa2009', 'fa2010',\n",
       "       'fa2013', 'fa2014', 'fa2011', 'fa2012', 'fa1999', 'sp2004',\n",
       "       'sp2005', 'sp2006', 'sp2008', 'fa1993', 'fa1994', 'fa1995',\n",
       "       'fa1996', 'fa1997', 'fa1998', 'sp2000', 'sp2002', 'sp2003',\n",
       "       'sp2009', 'sp2010', 'sp2011', 'sp2012', 'sp2013', 'sp2014',\n",
       "       'sp2015', 'sp2001', 'su2000', 'su2001', 'su2002', 'su2003',\n",
       "       'su2004', 'su2005', 'su2006', 'su2007', 'su2008', 'su2009',\n",
       "       'su2010', 'su2011', 'su2012', 'su2013', 'su2014', 'su2015',\n",
       "       'fa2015', 'fa2016', 'sp2016', 'su2016', 'fa2017', 'sp2017',\n",
       "       'su2017', 'fa2018', 'sp2018', 'su2018', 'fa2019', 'sp2019',\n",
       "       'su2019', 'sp2020', 'su2020'], dtype=object)"
      ]
     },
     "execution_count": 5,
     "metadata": {},
     "output_type": "execute_result"
    }
   ],
   "source": [
    "dff.term.unique()"
   ]
  },
  {
   "cell_type": "code",
   "execution_count": 8,
   "metadata": {},
   "outputs": [
    {
     "name": "stdout",
     "output_type": "stream",
     "text": [
      "['fa1993', 'fa1994', 'sp1994', 'fa1995', 'sp1995', 'fa1996', 'sp1996', 'fa1997', 'sp1997', 'fa1998', 'sp1998', 'fa1999', 'sp1999', 'fa2000', 'sp2000', 'su2000', 'fa2001', 'sp2001', 'su2001', 'fa2002', 'sp2002', 'su2002', 'fa2003', 'sp2003', 'su2003', 'fa2004', 'sp2004', 'su2004', 'fa2005', 'sp2005', 'su2005', 'fa2006', 'sp2006', 'su2006', 'fa2007', 'sp2007', 'su2007', 'fa2008', 'sp2008', 'su2008', 'fa2009', 'sp2009', 'su2009', 'fa2010', 'sp2010', 'su2010', 'fa2011', 'sp2011', 'su2011', 'fa2012', 'sp2012', 'su2012', 'fa2013', 'sp2013', 'su2013', 'fa2014', 'sp2014', 'su2014', 'fa2015', 'sp2015', 'su2015', 'fa2016', 'sp2016', 'su2016', 'fa2017', 'sp2017', 'su2017', 'fa2018', 'sp2018', 'su2018', 'fa2019', 'sp2019', 'su2019', 'sp2020', 'su2020']\n"
     ]
    }
   ],
   "source": [
    "terms = ['fa2003', 'sp2007', 'fa2000', 'sp1994', 'sp1995', 'sp1996',\n",
    "       'sp1997', 'sp1998', 'sp1999', 'fa2001', 'fa2002', 'fa2004',\n",
    "       'fa2005', 'fa2006', 'fa2007', 'fa2008', 'fa2009', 'fa2010',\n",
    "       'fa2013', 'fa2014', 'fa2011', 'fa2012', 'fa1999', 'sp2004',\n",
    "       'sp2005', 'sp2006', 'sp2008', 'fa1993', 'fa1994', 'fa1995',\n",
    "       'fa1996', 'fa1997', 'fa1998', 'sp2000', 'sp2002', 'sp2003',\n",
    "       'sp2009', 'sp2010', 'sp2011', 'sp2012', 'sp2013', 'sp2014',\n",
    "       'sp2015', 'sp2001', 'su2000', 'su2001', 'su2002', 'su2003',\n",
    "       'su2004', 'su2005', 'su2006', 'su2007', 'su2008', 'su2009',\n",
    "       'su2010', 'su2011', 'su2012', 'su2013', 'su2014', 'su2015',\n",
    "       'fa2015', 'fa2016', 'sp2016', 'su2016', 'fa2017', 'sp2017',\n",
    "       'su2017', 'fa2018', 'sp2018', 'su2018', 'fa2019', 'sp2019',\n",
    "       'su2019', 'sp2020', 'su2020']\n",
    "def custom_sort(term):\n",
    "    year, season = term[2:], term[:2]\n",
    "    return (int(year), season)\n",
    "\n",
    "sorted_terms = sorted(terms, key=custom_sort)\n",
    "\n",
    "print(sorted_terms)\n"
   ]
  },
  {
   "cell_type": "code",
   "execution_count": 10,
   "metadata": {},
   "outputs": [
    {
     "name": "stdout",
     "output_type": "stream",
     "text": [
      "['fa1993', 'fa1994', 'sp1994', 'fa1995', 'sp1995', 'fa1996', 'sp1996', 'fa1997', 'sp1997', 'fa1998', 'sp1998', 'fa1999', 'sp1999', 'fa2000', 'sp2000', 'su2000', 'fa2001', 'sp2001', 'su2001', 'fa2002', 'sp2002', 'su2002', 'fa2003', 'sp2003', 'su2003', 'fa2004', 'sp2004', 'su2004', 'fa2005', 'sp2005', 'su2005', 'fa2006', 'sp2006', 'su2006', 'fa2007', 'sp2007', 'su2007', 'fa2008', 'sp2008', 'su2008', 'fa2009', 'sp2009', 'su2009', 'fa2010', 'sp2010', 'su2010', 'fa2011', 'sp2011', 'su2011', 'fa2012', 'sp2012', 'su2012', 'fa2013', 'sp2013', 'su2013', 'fa2014', 'sp2014', 'su2014', 'fa2015', 'sp2015', 'su2015', 'fa2016', 'sp2016', 'su2016', 'fa2017', 'sp2017', 'su2017', 'fa2018', 'sp2018', 'su2018', 'fa2019', 'sp2019', 'su2019', 'sp2020', 'su2020']\n"
     ]
    }
   ],
   "source": [
    "\n",
    "terms = ['fa1993', 'fa1994', 'sp1994', 'fa1995', 'sp1995', 'fa1996', 'sp1996', 'fa1997', 'sp1997', 'fa1998', 'sp1998', 'fa1999', 'sp1999', 'fa2000', 'sp2000', 'su2000', 'fa2001', 'sp2001', 'su2001', 'fa2002', 'sp2002', 'su2002', 'fa2003', 'sp2003', 'su2003', 'fa2004', 'sp2004', 'su2004', 'fa2005', 'sp2005', 'su2005', 'fa2006', 'sp2006', 'su2006', 'fa2007', 'sp2007', 'su2007', 'fa2008', 'sp2008', 'su2008', 'fa2009', 'sp2009', 'su2009', 'fa2010', 'sp2010', 'su2010', 'fa2011', 'sp2011', 'su2011', 'fa2012', 'sp2012', 'su2012', 'fa2013', 'sp2013', 'su2013', 'fa2014', 'sp2014', 'su2014', 'fa2015', 'sp2015', 'su2015', 'fa2016', 'sp2016', 'su2016', 'fa2017', 'sp2017', 'su2017', 'fa2018', 'sp2018', 'su2018', 'fa2019', 'sp2019', 'su2019', 'sp2020', 'su2020']\n",
    "\n",
    "terms_with_double_quotes = [term.replace(\"'\", '\"') for term in terms]\n",
    "print(terms_with_double_quotes)\n"
   ]
  },
  {
   "cell_type": "code",
   "execution_count": 11,
   "metadata": {},
   "outputs": [
    {
     "data": {
      "text/plain": [
       "array(['Instructor', 'TA'], dtype=object)"
      ]
     },
     "execution_count": 11,
     "metadata": {},
     "output_type": "execute_result"
    }
   ],
   "source": [
    "dff.role.unique()"
   ]
  },
  {
   "cell_type": "code",
   "execution_count": 12,
   "metadata": {},
   "outputs": [
    {
     "data": {
      "text/plain": [
       "array(['Excellent', 'Outstanding'], dtype=object)"
      ]
     },
     "execution_count": 12,
     "metadata": {},
     "output_type": "execute_result"
    }
   ],
   "source": [
    "dff.ranking.unique()"
   ]
  },
  {
   "cell_type": "code",
   "execution_count": null,
   "metadata": {},
   "outputs": [],
   "source": []
  }
 ],
 "metadata": {
  "kernelspec": {
   "display_name": "Python 3",
   "language": "python",
   "name": "python3"
  },
  "language_info": {
   "codemirror_mode": {
    "name": "ipython",
    "version": 3
   },
   "file_extension": ".py",
   "mimetype": "text/x-python",
   "name": "python",
   "nbconvert_exporter": "python",
   "pygments_lexer": "ipython3",
   "version": "3.10.2"
  }
 },
 "nbformat": 4,
 "nbformat_minor": 2
}
